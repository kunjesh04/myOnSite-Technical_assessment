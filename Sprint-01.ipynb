{
 "cells": [
  {
   "cell_type": "markdown",
   "id": "92268765-a922-4d81-a5dd-41156b68cd7c",
   "metadata": {},
   "source": [
    "# Image Caption Generator"
   ]
  },
  {
   "cell_type": "code",
   "execution_count": 1,
   "id": "43993cc1-8c13-4614-9e06-b6f7dff52716",
   "metadata": {},
   "outputs": [
    {
     "name": "stderr",
     "output_type": "stream",
     "text": [
      "\n",
      "[notice] A new release of pip is available: 24.1.2 -> 24.2\n",
      "[notice] To update, run: python.exe -m pip install --upgrade pip\n"
     ]
    }
   ],
   "source": [
    "!pip install -U -q keras-nlp"
   ]
  },
  {
   "cell_type": "code",
   "execution_count": 10,
   "id": "523baac8-58b2-4f56-9d7f-6f473ebf40ed",
   "metadata": {},
   "outputs": [],
   "source": [
    "import os\n",
    "os.environ[\"KERAS_BACKEND\"] = \"jax\""
   ]
  },
  {
   "cell_type": "code",
   "execution_count": 11,
   "id": "5ceb80fb-fe00-4f7b-9d49-01cda0d8498c",
   "metadata": {},
   "outputs": [],
   "source": [
    "import keras\n",
    "keras.config.set_floatx(\"bfloat16\")"
   ]
  },
  {
   "cell_type": "code",
   "execution_count": 12,
   "id": "0411c6fe-eb6a-4191-adee-0b718c61bda4",
   "metadata": {},
   "outputs": [],
   "source": [
    "import keras_nlp"
   ]
  },
  {
   "cell_type": "code",
   "execution_count": 18,
   "id": "005ee7bb-2cc1-45e7-831b-1a196eabd09e",
   "metadata": {},
   "outputs": [
    {
     "data": {
      "text/plain": [
       "<module 'keras_nlp' from 'C:\\\\Users\\\\Kunjesh\\\\miniconda3\\\\Lib\\\\site-packages\\\\keras_nlp\\\\__init__.py'>"
      ]
     },
     "execution_count": 18,
     "metadata": {},
     "output_type": "execute_result"
    }
   ],
   "source": [
    "keras_nlp"
   ]
  },
  {
   "cell_type": "code",
   "execution_count": 14,
   "id": "2209168a-5745-42cc-8c4c-c27dc24d5778",
   "metadata": {},
   "outputs": [
    {
     "ename": "AttributeError",
     "evalue": "module 'keras_nlp' has no attribute 'models'",
     "output_type": "error",
     "traceback": [
      "\u001b[1;31m---------------------------------------------------------------------------\u001b[0m",
      "\u001b[1;31mAttributeError\u001b[0m                            Traceback (most recent call last)",
      "Cell \u001b[1;32mIn[14], line 1\u001b[0m\n\u001b[1;32m----> 1\u001b[0m pali_gemma_lm \u001b[38;5;241m=\u001b[39m keras_nlp\u001b[38;5;241m.\u001b[39mmodels\u001b[38;5;241m.\u001b[39mPaliGemmaCausalLM\u001b[38;5;241m.\u001b[39mfrom_preset(\n\u001b[0;32m      2\u001b[0m     \u001b[38;5;124m\"\u001b[39m\u001b[38;5;124mpali_gemma_3b_224\u001b[39m\u001b[38;5;124m\"\u001b[39m\n\u001b[0;32m      3\u001b[0m )\n",
      "\u001b[1;31mAttributeError\u001b[0m: module 'keras_nlp' has no attribute 'models'"
     ]
    }
   ],
   "source": [
    "pali_gemma_lm = keras_nlp.models.PaliGemmaCausalLM.from_preset(\n",
    "    \"pali_gemma_3b_224\"\n",
    ")"
   ]
  },
  {
   "cell_type": "code",
   "execution_count": null,
   "id": "aa6ef39b-fbc2-4a24-ad3e-67c2b3134e16",
   "metadata": {},
   "outputs": [],
   "source": []
  }
 ],
 "metadata": {
  "kernelspec": {
   "display_name": "Python 3 (ipykernel)",
   "language": "python",
   "name": "python3"
  },
  "language_info": {
   "codemirror_mode": {
    "name": "ipython",
    "version": 3
   },
   "file_extension": ".py",
   "mimetype": "text/x-python",
   "name": "python",
   "nbconvert_exporter": "python",
   "pygments_lexer": "ipython3",
   "version": "3.11.7"
  }
 },
 "nbformat": 4,
 "nbformat_minor": 5
}
